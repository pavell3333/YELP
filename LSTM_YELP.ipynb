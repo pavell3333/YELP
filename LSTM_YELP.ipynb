{
  "nbformat": 4,
  "nbformat_minor": 0,
  "metadata": {
    "colab": {
      "name": "LSTM_YELP.ipynb",
      "provenance": [],
      "collapsed_sections": []
    },
    "kernelspec": {
      "name": "python3",
      "display_name": "Python 3"
    },
    "accelerator": "GPU"
  },
  "cells": [
    {
      "cell_type": "code",
      "metadata": {
        "id": "AdgLMvcbmy_t"
      },
      "source": [
        "\n",
        "from tensorflow.keras.models import Sequential\n",
        "from tensorflow.keras.layers import Dense, Embedding, LSTM, GRU\n",
        "from tensorflow.keras import utils\n",
        "from tensorflow.keras.preprocessing.sequence import pad_sequences\n",
        "from tensorflow.keras.preprocessing.text import Tokenizer\n",
        "from tensorflow.keras.callbacks import ModelCheckpoint\n",
        "from google.colab import files\n",
        "import numpy as np\n",
        "import pandas as pd\n",
        "import matplotlib.pyplot as plt\n",
        "%matplotlib inline\n"
      ],
      "execution_count": 1,
      "outputs": []
    },
    {
      "cell_type": "code",
      "metadata": {
        "id": "jc41KCd4qI1L"
      },
      "source": [
        "max_words = 10000\n",
        "max_review_len =200\n"
      ],
      "execution_count": 2,
      "outputs": []
    },
    {
      "cell_type": "code",
      "metadata": {
        "id": "g6-sne17sR_U",
        "colab": {
          "base_uri": "https://localhost:8080/"
        },
        "outputId": "49e9e1c4-418a-4afe-c7ea-3b19b44faf3e"
      },
      "source": [
        "!wget https://s3.amazonaws.com/fast-ai-nlp/yelp_review_polarity_csv.tgz -O yelp_review_polarity_csv.tgz"
      ],
      "execution_count": 3,
      "outputs": [
        {
          "output_type": "stream",
          "text": [
            "--2021-01-19 08:16:23--  https://s3.amazonaws.com/fast-ai-nlp/yelp_review_polarity_csv.tgz\n",
            "Resolving s3.amazonaws.com (s3.amazonaws.com)... 52.216.200.165\n",
            "Connecting to s3.amazonaws.com (s3.amazonaws.com)|52.216.200.165|:443... connected.\n",
            "HTTP request sent, awaiting response... 200 OK\n",
            "Length: 166373201 (159M) [application/x-tar]\n",
            "Saving to: ‘yelp_review_polarity_csv.tgz’\n",
            "\n",
            "yelp_review_polarit 100%[===================>] 158.67M  54.5MB/s    in 2.9s    \n",
            "\n",
            "2021-01-19 08:16:26 (54.5 MB/s) - ‘yelp_review_polarity_csv.tgz’ saved [166373201/166373201]\n",
            "\n"
          ],
          "name": "stdout"
        }
      ]
    },
    {
      "cell_type": "code",
      "metadata": {
        "id": "0Z5Mg5K3smPk",
        "colab": {
          "base_uri": "https://localhost:8080/"
        },
        "outputId": "69b7ecf6-7d50-419d-c005-1e559743e707"
      },
      "source": [
        "!tar -xvf yelp_review_polarity_csv.tgz"
      ],
      "execution_count": 4,
      "outputs": [
        {
          "output_type": "stream",
          "text": [
            "yelp_review_polarity_csv/\n",
            "yelp_review_polarity_csv/train.csv\n",
            "yelp_review_polarity_csv/readme.txt\n",
            "yelp_review_polarity_csv/test.csv\n"
          ],
          "name": "stdout"
        }
      ]
    },
    {
      "cell_type": "code",
      "metadata": {
        "id": "IE_XUqfCSjY1"
      },
      "source": [
        "train = pd.read_csv('yelp_review_polarity_csv/train.csv', header = None, names = ['Class', 'Review'])\n",
        "test = pd.read_csv('yelp_review_polarity_csv/test.csv', header = None, names = ['Class', 'Review'])\n"
      ],
      "execution_count": 5,
      "outputs": []
    },
    {
      "cell_type": "code",
      "metadata": {
        "id": "9SMyt5MHTpHL",
        "colab": {
          "base_uri": "https://localhost:8080/"
        },
        "outputId": "b75ac6db-333a-447d-aea5-5d1afbe12bc3"
      },
      "source": [
        "reviews = train['Review']\n",
        "y_train = train['Class']-1\n",
        "reviews[:5]\n",
        "\n"
      ],
      "execution_count": 6,
      "outputs": [
        {
          "output_type": "execute_result",
          "data": {
            "text/plain": [
              "0    Unfortunately, the frustration of being Dr. Go...\n",
              "1    Been going to Dr. Goldberg for over 10 years. ...\n",
              "2    I don't know what Dr. Goldberg was like before...\n",
              "3    I'm writing this review to give you a heads up...\n",
              "4    All the food is great here. But the best thing...\n",
              "Name: Review, dtype: object"
            ]
          },
          "metadata": {
            "tags": []
          },
          "execution_count": 6
        }
      ]
    },
    {
      "cell_type": "code",
      "metadata": {
        "id": "9QmYENI9UA_e"
      },
      "source": [
        "tokenaizer = Tokenizer(num_words=max_words)\n",
        "tokenaizer.fit_on_texts(reviews)\n"
      ],
      "execution_count": 7,
      "outputs": []
    },
    {
      "cell_type": "code",
      "metadata": {
        "id": "Dw2VppisUBEl"
      },
      "source": [
        "sequence = tokenaizer.texts_to_sequences(reviews)\n"
      ],
      "execution_count": 8,
      "outputs": []
    },
    {
      "cell_type": "code",
      "metadata": {
        "id": "n4EPKHYmalYf",
        "colab": {
          "base_uri": "https://localhost:8080/"
        },
        "outputId": "a970603e-d99d-4643-d9fd-06bbe28faa35"
      },
      "source": [
        "index = 0\n",
        "print(reviews[index])\n",
        "print(sequence[index])"
      ],
      "execution_count": 9,
      "outputs": [
        {
          "output_type": "stream",
          "text": [
            "Unfortunately, the frustration of being Dr. Goldberg's patient is a repeat of the experience I've had with so many other doctors in NYC -- good doctor, terrible staff.  It seems that his staff simply never answers the phone.  It usually takes 2 hours of repeated calling to get an answer.  Who has time for that or wants to deal with it?  I have run into this problem with many other doctors and I just don't get it.  You have office workers, you have patients with medical needs, why isn't anyone answering the phone?  It's incomprehensible and not work the aggravation.  It's with regret that I feel that I have to give Dr. Goldberg 2 stars.\n",
            "[707, 1, 4339, 7, 173, 939, 1665, 11, 5, 2161, 7, 1, 137, 112, 24, 18, 27, 189, 80, 3128, 10, 2636, 34, 1416, 462, 129, 8, 519, 13, 177, 129, 803, 88, 3812, 1, 446, 8, 392, 841, 115, 360, 7, 4136, 1438, 4, 43, 59, 1266, 118, 95, 46, 9, 13, 49, 1687, 4, 418, 18, 8, 3, 23, 563, 178, 16, 460, 18, 189, 80, 3128, 2, 3, 40, 78, 43, 8, 20, 23, 644, 1343, 20, 23, 3252, 18, 2921, 637, 227, 430, 476, 4312, 1, 446, 63, 2, 22, 215, 1, 63, 18, 2269, 13, 3, 249, 13, 3, 23, 4, 163, 939, 115, 237]\n"
          ],
          "name": "stdout"
        }
      ]
    },
    {
      "cell_type": "code",
      "metadata": {
        "id": "OTfBUWl6bjgJ",
        "colab": {
          "base_uri": "https://localhost:8080/"
        },
        "outputId": "bb899f8d-8a02-4eca-d0fe-f62fe9c431ca"
      },
      "source": [
        "tokenaizer.word_index['good']"
      ],
      "execution_count": 10,
      "outputs": [
        {
          "output_type": "execute_result",
          "data": {
            "text/plain": [
              "34"
            ]
          },
          "metadata": {
            "tags": []
          },
          "execution_count": 10
        }
      ]
    },
    {
      "cell_type": "code",
      "metadata": {
        "id": "s3fhFxxzb2O4"
      },
      "source": [
        "x_train = pad_sequences(sequence, maxlen=max_review_len)"
      ],
      "execution_count": 11,
      "outputs": []
    },
    {
      "cell_type": "code",
      "metadata": {
        "id": "syNzCGfccH-o",
        "colab": {
          "base_uri": "https://localhost:8080/"
        },
        "outputId": "409d6456-cc25-4b0f-e65b-3e55ac6ab0aa"
      },
      "source": [
        "x_train[5:]"
      ],
      "execution_count": 12,
      "outputs": [
        {
          "output_type": "execute_result",
          "data": {
            "text/plain": [
              "array([[   0,    0,    0, ...,  922,   28,  393],\n",
              "       [  11,   38,    5, ...,   52,   10, 1419],\n",
              "       [   0,    0,    0, ...,    8,  188,   30],\n",
              "       ...,\n",
              "       [   0,    0,    0, ...,    4,   82,  297],\n",
              "       [   0,    0,    0, ...,  209,   42,    2],\n",
              "       [   0,    0,    0, ...,   27,  103, 5990]], dtype=int32)"
            ]
          },
          "metadata": {
            "tags": []
          },
          "execution_count": 12
        }
      ]
    },
    {
      "cell_type": "code",
      "metadata": {
        "id": "GSUrRSbx3sUj"
      },
      "source": [
        "model = Sequential()\n",
        "model.add(Embedding(max_words, 64, input_length=max_review_len))\n",
        "# model.add(LSTM(8, return_sequences=True))\n",
        "# model.add(LSTM(32, return_sequences=True))\n",
        "# model.add(LSTM(32, return_sequences=True))\n",
        "model.add(LSTM(128))\n",
        "\n",
        "model.add(Dense(1, activation='sigmoid'))"
      ],
      "execution_count": 13,
      "outputs": []
    },
    {
      "cell_type": "code",
      "metadata": {
        "id": "hqxbIsfMdqxZ"
      },
      "source": [
        "model_save_path = 'best_LSTM.h5'\n",
        "check_point = ModelCheckpoint(model_save_path, monitor='val_accuracy', save_best_only=True, verbose =1)"
      ],
      "execution_count": 14,
      "outputs": []
    },
    {
      "cell_type": "code",
      "metadata": {
        "id": "JKg9Vl405U-S"
      },
      "source": [
        "model.compile(optimizer='adam', loss= 'binary_crossentropy', metrics=['accuracy'])"
      ],
      "execution_count": 15,
      "outputs": []
    },
    {
      "cell_type": "code",
      "metadata": {
        "id": "0k6Oe7zY6lS7",
        "colab": {
          "base_uri": "https://localhost:8080/"
        },
        "outputId": "80ce7901-cd6e-439f-f134-a76616ea5a86"
      },
      "source": [
        "history = model.fit(x_train, y_train, batch_size=128, epochs=6, validation_split=0.1, callbacks=[check_point])"
      ],
      "execution_count": 16,
      "outputs": [
        {
          "output_type": "stream",
          "text": [
            "Epoch 1/6\n",
            "3938/3938 [==============================] - 123s 29ms/step - loss: 0.2493 - accuracy: 0.8947 - val_loss: 0.1085 - val_accuracy: 0.9587\n",
            "\n",
            "Epoch 00001: val_accuracy improved from -inf to 0.95866, saving model to best_LSTM.h5\n",
            "Epoch 2/6\n",
            "3938/3938 [==============================] - 114s 29ms/step - loss: 0.1258 - accuracy: 0.9528 - val_loss: 0.0979 - val_accuracy: 0.9636\n",
            "\n",
            "Epoch 00002: val_accuracy improved from 0.95866 to 0.96355, saving model to best_LSTM.h5\n",
            "Epoch 3/6\n",
            "3938/3938 [==============================] - 114s 29ms/step - loss: 0.1016 - accuracy: 0.9622 - val_loss: 0.0986 - val_accuracy: 0.9648\n",
            "\n",
            "Epoch 00003: val_accuracy improved from 0.96355 to 0.96477, saving model to best_LSTM.h5\n",
            "Epoch 4/6\n",
            "3938/3938 [==============================] - 117s 30ms/step - loss: 0.0835 - accuracy: 0.9697 - val_loss: 0.0975 - val_accuracy: 0.9652\n",
            "\n",
            "Epoch 00004: val_accuracy improved from 0.96477 to 0.96518, saving model to best_LSTM.h5\n",
            "Epoch 5/6\n",
            "3938/3938 [==============================] - 116s 29ms/step - loss: 0.0703 - accuracy: 0.9745 - val_loss: 0.0983 - val_accuracy: 0.9647\n",
            "\n",
            "Epoch 00005: val_accuracy did not improve from 0.96518\n",
            "Epoch 6/6\n",
            "3938/3938 [==============================] - 115s 29ms/step - loss: 0.0568 - accuracy: 0.9800 - val_loss: 0.1112 - val_accuracy: 0.9642\n",
            "\n",
            "Epoch 00006: val_accuracy did not improve from 0.96518\n"
          ],
          "name": "stdout"
        }
      ]
    },
    {
      "cell_type": "code",
      "metadata": {
        "id": "7xvny1-K6_Tm",
        "colab": {
          "base_uri": "https://localhost:8080/",
          "height": 265
        },
        "outputId": "db5a358c-956b-408c-ee19-b0dc8b3ead97"
      },
      "source": [
        "plt.plot(history.history['accuracy'], label = 'Точность на тестовых данных')\n",
        "plt.plot(history.history['val_accuracy'], label = 'Точность на валидации')\n",
        "plt.legend()\n",
        "plt.show()"
      ],
      "execution_count": 17,
      "outputs": [
        {
          "output_type": "display_data",
          "data": {
            "image/png": "[encoded data removed]",
            "text/plain": [
              "<Figure size 432x288 with 1 Axes>"
            ]
          },
          "metadata": {
            "tags": [],
            "needs_background": "light"
          }
        }
      ]
    },
    {
      "cell_type": "code",
      "metadata": {
        "id": "yr6DF1DOikWA"
      },
      "source": [
        "reviews = test['Review']\n",
        "y_test = test['Class']-1\n",
        "\n",
        "test_sequences = tokenaizer.texts_to_sequences(test['Review'])\n",
        "x_test = pad_sequences(test_sequences, maxlen=max_review_len)\n"
      ],
      "execution_count": 18,
      "outputs": []
    },
    {
      "cell_type": "code",
      "metadata": {
        "id": "qMMh7I957SR3",
        "colab": {
          "base_uri": "https://localhost:8080/"
        },
        "outputId": "8f836a1b-a498-41c0-9afd-2c4d73b554a8"
      },
      "source": [
        "\n",
        "\n",
        "\n",
        "model.load_weights(model_save_path)\n",
        "score = model.evaluate(x_test,y_test)"
      ],
      "execution_count": 19,
      "outputs": [
        {
          "output_type": "stream",
          "text": [
            "1188/1188 [==============================] - 7s 6ms/step - loss: 0.1200 - accuracy: 0.9564\n"
          ],
          "name": "stdout"
        }
      ]
    },
    {
      "cell_type": "code",
      "metadata": {
        "id": "p8_4Kuyf7lPf",
        "colab": {
          "base_uri": "https://localhost:8080/"
        },
        "outputId": "baa4272a-8ab3-4754-fbf5-9134b7d474d4"
      },
      "source": [
        "text = 'At each stage, everything had to be pulled out with ticks, the company does not organize tourism in principle. Everything is done in fact and as God sends. God sent us a student of Philology as a guide. Olya rested with us, but did not work, as she came to these places for the first time, as we did.'\n",
        "seq = tokenaizer.texts_to_sequences([text])\n",
        "data = pad_sequences(seq, max_review_len)\n",
        "\n",
        "result = model.predict(data)\n",
        "print(result)\n"
      ],
      "execution_count": 20,
      "outputs": [
        {
          "output_type": "stream",
          "text": [
            "[[0.22708935]]\n"
          ],
          "name": "stdout"
        }
      ]
    },
    {
      "cell_type": "markdown",
      "metadata": {
        "id": "XrX5Upi-oVMi"
      },
      "source": [
        ""
      ]
    },
    {
      "cell_type": "code",
      "metadata": {
        "id": "mpkTEkLjnoAy"
      },
      "source": [
        "w = model.layers[1].get_weights()[0]\n"
      ],
      "execution_count": 21,
      "outputs": []
    },
    {
      "cell_type": "code",
      "metadata": {
        "id": "c3m79Q_J43Mi"
      },
      "source": [
        ""
      ],
      "execution_count": 21,
      "outputs": []
    }
  ]
}